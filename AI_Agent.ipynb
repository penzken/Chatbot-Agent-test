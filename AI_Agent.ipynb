{
 "cells": [
  {
   "cell_type": "code",
   "execution_count": 1,
   "id": "8ee707a2",
   "metadata": {},
   "outputs": [],
   "source": [
    "import gradio as gr\n",
    "import re\n",
    "import requests\n",
    "import json\n",
    "import base64\n",
    "import os\n",
    "from openai import OpenAI"
   ]
  },
  {
   "cell_type": "code",
   "execution_count": 2,
   "id": "5f4617a6",
   "metadata": {},
   "outputs": [],
   "source": [
    "client = OpenAI(\n",
    "base_url = \"https://openrouter.ai/api/v1\",\n",
    "api_key = \"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\"\n",
    ")"
   ]
  },
  {
   "cell_type": "code",
   "execution_count": 3,
   "id": "125f9717",
   "metadata": {},
   "outputs": [],
   "source": [
    "def encode_pdf_to_base64(pdf_path):\n",
    "    with open(pdf_path, \"rb\") as pdf_file:\n",
    "        return base64.b64encode(pdf_file.read()).decode('utf-8')\n",
    "url = \"https://openrouter.ai/api/v1/chat/completions\"\n",
    "headers = {\n",
    "    \"Authorization\": f\"Bearer {\"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\"}\",\n",
    "    \"Content-Type\": \"application/json\"\n",
    "}"
   ]
  },
  {
   "cell_type": "code",
   "execution_count": 4,
   "id": "82fe7212",
   "metadata": {},
   "outputs": [],
   "source": [
    "messages = []"
   ]
  },
  {
   "cell_type": "code",
   "execution_count": 5,
   "id": "29bcf500",
   "metadata": {},
   "outputs": [],
   "source": [
    "def chatbot_stream(user_input, pdf_file=None):\n",
    "    global messages\n",
    "    content = [{\"type\": \"text\", \"text\": user_input}]\n",
    "    messages.append({\"role\": \"user\", \"content\": content})\n",
    "    # API Call\n",
    "    response = client.chat.completions.create(\n",
    "        model=\"meta-llama/llama-4-maverick:free\",\n",
    "        messages=messages,\n",
    "        stream=True,\n",
    "        extra_body={\n",
    "            \"plugins\": [\n",
    "                {\"id\": \"web\"},\n",
    "                {\"id\": \"file-parser\", \"pdf\": {\"engine\": \"pdf-text\"}}\n",
    "            ]\n",
    "        }\n",
    "    )\n",
    "\n",
    "    # Collect streamed response\n",
    "    bot_reply = \"\"\n",
    "    for chunk in response:\n",
    "        if hasattr(chunk.choices[0].delta, 'content'):\n",
    "            bot_reply += chunk.choices[0].delta.content\n",
    "\n",
    "    messages.append({\"role\": \"assistant\", \"content\": bot_reply})\n",
    "    return bot_reply"
   ]
  },
  {
   "cell_type": "code",
   "execution_count": null,
   "id": "cc26413c",
   "metadata": {},
   "outputs": [],
   "source": [
    "demo = gr.Interface(\n",
    "    fn=chatbot_stream,\n",
    "    inputs=[\n",
    "        gr.Textbox(label=\"User Input\"),  # User's text input\n",
    "        gr.File(label=\"Upload PDF (optional)\")  # Optional PDF file input\n",
    "    ],\n",
    "    outputs=gr.Textbox(label=\"Bot Reply\"),  # Bot's response\n",
    "    title=\"Chatbot with PDF Upload\",\n",
    "    theme=\"default\",\n",
    "    flagging_mode=\"never\",\n",
    ")"
   ]
  },
  {
   "cell_type": "code",
   "execution_count": null,
   "id": "9d684c44",
   "metadata": {},
   "outputs": [],
   "source": [
    "demo.launch(share=True, server_name=\"Test_nang_luc\")"
   ]
  }
 ],
 "metadata": {
  "kernelspec": {
   "display_name": "Python 3 (ipykernel)",
   "language": "python",
   "name": "python3"
  },
  "language_info": {
   "codemirror_mode": {
    "name": "ipython",
    "version": 3
   },
   "file_extension": ".py",
   "mimetype": "text/x-python",
   "name": "python",
   "nbconvert_exporter": "python",
   "pygments_lexer": "ipython3",
   "version": "3.13.2"
  }
 },
 "nbformat": 4,
 "nbformat_minor": 5
}
